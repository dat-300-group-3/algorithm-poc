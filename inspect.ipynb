{
 "cells": [
  {
   "cell_type": "code",
   "execution_count": 4,
   "metadata": {},
   "outputs": [],
   "source": [
    "import pandas as pd\n",
    "\n",
    "# Load the CSV file into a DataFrame\n",
    "csv_file_path = './data/24h_processed_isattributed.csv'\n",
    "\n",
    "# Load the CSV file into a DataFrame\n",
    "df = pd.read_csv(csv_file_path)\n",
    "\n",
    "# Filter out device = 3032\n",
    "df = df[df['device'] == 3032]\n",
    "\n",
    "# Display all rows of the filtered DataFrame\n",
    "df.to_csv('./data/24h_full_filtered.csv', index=False)\n",
    "\n"
   ]
  },
  {
   "cell_type": "code",
   "execution_count": 6,
   "metadata": {
    "vscode": {
     "languageId": "ruby"
    }
   },
   "outputs": [
    {
     "name": "stdout",
     "output_type": "stream",
     "text": [
      "Relative threshold for frequency = 30:  3.4419458467186785e-05\n",
      "Relative threshold for frequency = 6:  0.0020536943552088116\n",
      "Percentage threshold for frequency = 30:  0.0034419458467186783\n",
      "Percentage threshold for frequency = 6:  0.20536943552088116\n"
     ]
    }
   ],
   "source": [
    "# Calculate the relative threshold for frequency = 30 and frequency = 6\n",
    "relative_threshold_30 = df[df['frequency'] == 30].shape[0] / df.shape[0]\n",
    "relative_threshold_6 = df[df['frequency'] == 6].shape[0] / df.shape[0]\n",
    "\n",
    "\n",
    "relative_threshold_30, relative_threshold_6\n",
    "print(\"Relative threshold for frequency = 30: \", relative_threshold_30)\n",
    "print(\"Relative threshold for frequency = 6: \", relative_threshold_6)\n",
    "\n",
    "# Print percentage threshold\n",
    "percentage_threshold_30 = relative_threshold_30 * 100\n",
    "percentage_threshold_6 = relative_threshold_6 * 100\n",
    "print(\"Percentage threshold for frequency = 30: \", percentage_threshold_30)\n",
    "print(\"Percentage threshold for frequency = 6: \", percentage_threshold_6)"
   ]
  }
 ],
 "metadata": {
  "kernelspec": {
   "display_name": "Python 3",
   "language": "python",
   "name": "python3"
  },
  "language_info": {
   "codemirror_mode": {
    "name": "ipython",
    "version": 3
   },
   "file_extension": ".py",
   "mimetype": "text/x-python",
   "name": "python",
   "nbconvert_exporter": "python",
   "pygments_lexer": "ipython3",
   "version": "3.12.1"
  }
 },
 "nbformat": 4,
 "nbformat_minor": 2
}
